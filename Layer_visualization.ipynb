{
  "nbformat": 4,
  "nbformat_minor": 0,
  "metadata": {
    "colab": {
      "name": "Layer_visualization.ipynb",
      "version": "0.3.2",
      "provenance": []
    },
    "kernelspec": {
      "name": "python3",
      "display_name": "Python 3"
    },
    "accelerator": "GPU"
  },
  "cells": [
    {
      "cell_type": "code",
      "metadata": {
        "id": "HjtcLkXt3_jR",
        "colab_type": "code",
        "outputId": "41fa6bd5-43d8-4282-b537-143339137f54",
        "colab": {
          "base_uri": "https://localhost:8080/",
          "height": 34
        }
      },
      "source": [
        "from google.colab import drive\n",
        "drive.mount('/content/gdrive', force_remount=True)"
      ],
      "execution_count": 1,
      "outputs": [
        {
          "output_type": "stream",
          "text": [
            "Mounted at /content/gdrive\n"
          ],
          "name": "stdout"
        }
      ]
    },
    {
      "cell_type": "code",
      "metadata": {
        "id": "aWHMkCWa5AiJ",
        "colab_type": "code",
        "outputId": "da32bf48-4f00-4209-a729-6e94346f7afc",
        "colab": {
          "base_uri": "https://localhost:8080/",
          "height": 51
        }
      },
      "source": [
        "import os\n",
        "import glob\n",
        "import functools\n",
        "\n",
        "import numpy as np\n",
        "import matplotlib.pyplot as plt\n",
        "\n",
        "from sklearn.model_selection import train_test_split\n",
        "import matplotlib.image as mpimg\n",
        "\n",
        "import pandas as pd\n",
        "from PIL import Image\n",
        "\n",
        "import tensorflow as tf\n",
        "print(tf.__version__)\n",
        "import tensorflow.contrib as tfcontrib\n",
        "from tensorflow.python.keras import models\n",
        "!pip install SimpleITK\n",
        "import SimpleITK as sitk "
      ],
      "execution_count": 2,
      "outputs": [
        {
          "output_type": "stream",
          "text": [
            "1.13.1\n",
            "Requirement already satisfied: SimpleITK in /usr/local/lib/python3.6/dist-packages (1.2.0)\n"
          ],
          "name": "stdout"
        }
      ]
    },
    {
      "cell_type": "code",
      "metadata": {
        "id": "x5MTaBkp5NOB",
        "colab_type": "code",
        "outputId": "c6eed7f4-de35-4a81-e5a7-55ac3cf533c6",
        "colab": {
          "base_uri": "https://localhost:8080/",
          "height": 34
        }
      },
      "source": [
        "%load_ext autoreload\n",
        "%autoreload 2\n",
        "%cd '/content/gdrive/My Drive/DeepLearning/2DUnet-git'"
      ],
      "execution_count": 3,
      "outputs": [
        {
          "output_type": "stream",
          "text": [
            "/content/gdrive/My Drive/DeepLearning/2DUnet-git\n"
          ],
          "name": "stdout"
        }
      ]
    },
    {
      "cell_type": "code",
      "metadata": {
        "id": "tAGtfcHXJi_r",
        "colab_type": "code",
        "colab": {}
      },
      "source": [
        "from tensorflow.python.keras import backend as K"
      ],
      "execution_count": 0,
      "outputs": []
    },
    {
      "cell_type": "code",
      "metadata": {
        "id": "ttZ0_1BN58fc",
        "colab_type": "code",
        "colab": {}
      },
      "source": [
        "from utils import getTrainNLabelNames\n",
        "from prediction import data_preprocess_intensity, data_preprocess_scale, data_preprocess_intensity_2scale"
      ],
      "execution_count": 0,
      "outputs": []
    },
    {
      "cell_type": "code",
      "metadata": {
        "id": "ietbGq0cH3hc",
        "colab_type": "code",
        "colab": {}
      },
      "source": [
        "def getLayerIndexByName(model, layernames):\n",
        "    ids = []\n",
        "    for idx, layer in enumerate(model.layers):\n",
        "        print(layer.name)\n",
        "        if layer.name in layernames:\n",
        "            ids.append(idx)\n",
        "    return ids"
      ],
      "execution_count": 0,
      "outputs": []
    },
    {
      "cell_type": "code",
      "metadata": {
        "id": "xLNzHfDq65Zp",
        "colab_type": "code",
        "colab": {}
      },
      "source": [
        "from skimage.transform import resize\n",
        "def croppedImage(img_fn, mask_fn, m, view, size):\n",
        "  img_vol, _, _ = data_preprocess_intensity_2scale(img_fn, m)\n",
        "  print(img_vol.shape)\n",
        "  img_vol = data_preprocess_scale(img_vol, view, 256)\n",
        "  msk = sitk.ReadImage(mask_fn)\n",
        "  print(msk.GetSpacing())\n",
        "  print(msk.GetOrigin())\n",
        "  print(msk.GetDirection())\n",
        "  maskVol = sitk.GetArrayFromImage(msk).astype(float)\n",
        "  space = msk.GetSpacing()\n",
        "  maskshape = maskVol.shape\n",
        "  maskVol = resize(maskVol, (space[0]*maskshape[0],space[1]*maskshape[1], space[2]*maskshape[2])) \n",
        "  if m == \"mr\":\n",
        "    maskVol = np.moveaxis(maskVol, 0, -1)\n",
        "    \n",
        "  maskVol = np.moveaxis(maskVol, view, 0)\n",
        "  IDs = np.max(np.max(maskVol,axis=-1),axis=-1)==0\n",
        "  sliced = np.moveaxis(img_vol,view,0)[~IDs,:,:]\n",
        "  sliced = np.moveaxis(resize(sliced, (size,256,256), order=1), 0, view)\n",
        "  mask_sliced = np.moveaxis(maskVol,view,0)[~IDs,:,:]\n",
        "  mask_sliced = np.moveaxis(resize(mask_sliced, (size,256,256), order=1), 0, view)\n",
        "  \n",
        "  return sliced, mask_sliced"
      ],
      "execution_count": 0,
      "outputs": []
    },
    {
      "cell_type": "code",
      "metadata": {
        "id": "TrngxgKmzUS4",
        "colab_type": "code",
        "colab": {}
      },
      "source": [
        "from matplotlib import offsetbox\n",
        "def plot_embedding(X, y, title=None):\n",
        "    classes = [\"ct\", \"mr\"]\n",
        "    x_min, x_max = np.min(X, 0), np.max(X, 0)\n",
        "    X = (X - x_min) / (x_max - x_min)\n",
        "    plt.figure()\n",
        "    ax = plt.subplot(111)\n",
        "    for i in range(len(np.unique(y))):\n",
        "      X_c = X[y==i,:]\n",
        "      plt.scatter(X_c[:,0], X_c[:,1],color=plt.cm.tab10(i/ 10.), label=classes[i] )\n",
        "\n",
        "    plt.legend(loc='center left', bbox_to_anchor=(1, 0.5))\n",
        "\n",
        "    if hasattr(offsetbox, 'AnnotationBbox'):\n",
        "        # only print thumbnails with matplotlib > 1.0\n",
        "        shown_images = np.array([[1., 1.]])  # just something big\n",
        "        for i in range(X.shape[0]):\n",
        "            dist = np.sum((X[i] - shown_images) ** 2, 1)\n",
        "            if np.min(dist) < 4e-3:\n",
        "                # don't show points that are too close\n",
        "                continue\n",
        "            shown_images = np.r_[shown_images, [X[i]]]\n",
        "\n",
        "    plt.xticks([]), plt.yticks([])\n",
        "    if title is not None:\n",
        "        plt.title(title)"
      ],
      "execution_count": 0,
      "outputs": []
    },
    {
      "cell_type": "markdown",
      "metadata": {
        "id": "GZYSi4KKt4OY",
        "colab_type": "text"
      },
      "source": [
        "# Visualization for MR and MR + histogram equalization"
      ]
    },
    {
      "cell_type": "code",
      "metadata": {
        "id": "rmpDytn0t25Q",
        "colab_type": "code",
        "colab": {
          "base_uri": "https://localhost:8080/",
          "height": 51
        },
        "outputId": "1eadb992-fdc8-4cb8-e090-d615f50cc893"
      },
      "source": [
        "modality = [\"mr\"]\n",
        "data_folder = '/content/gdrive/My Drive/ImageData/MMWHS'\n",
        "x_train_filenames_mr, y_train_filenames_mr = getTrainNLabelNames(data_folder, modality[0])\n",
        "print(\"Number of training volumes %d\" % len(x_train_filenames_mr))\n",
        "print(\"Number of mask volumes %d\" % len(y_train_filenames_mr))"
      ],
      "execution_count": 14,
      "outputs": [
        {
          "output_type": "stream",
          "text": [
            "Number of training volumes 20\n",
            "Number of mask volumes 20\n"
          ],
          "name": "stdout"
        }
      ]
    },
    {
      "cell_type": "code",
      "metadata": {
        "id": "2zURU-VVuH-o",
        "colab_type": "code",
        "colab": {
          "base_uri": "https://localhost:8080/",
          "height": 88
        },
        "outputId": "0df290a1-6b10-4ca7-ae54-20cceb6102f5"
      },
      "source": [
        "from loss import bce_dice_loss, dice_loss\n",
        "save_model_path_both = '/content/gdrive/My Drive/DeepLearning/2DUNet/Logs_2/MMWHS_eqlhst/weights_multi-all-axial_small2.hdf5'\n",
        "from model import UNet2D\n",
        "img_shape = (256, 256, 1)\n",
        "inputs, outputs = UNet2D(img_shape, 8)\n",
        "unet = models.Model(inputs=[inputs], outputs=[outputs])\n",
        "unet.load_weights(save_model_path_both)"
      ],
      "execution_count": 8,
      "outputs": [
        {
          "output_type": "stream",
          "text": [
            "WARNING:tensorflow:From /usr/local/lib/python3.6/dist-packages/tensorflow/python/ops/resource_variable_ops.py:435: colocate_with (from tensorflow.python.framework.ops) is deprecated and will be removed in a future version.\n",
            "Instructions for updating:\n",
            "Colocations handled automatically by placer.\n"
          ],
          "name": "stdout"
        }
      ]
    },
    {
      "cell_type": "code",
      "metadata": {
        "id": "qrsPLzGc8X6m",
        "colab_type": "code",
        "colab": {}
      },
      "source": [
        "def HistogramEqualization(pyIm):\n",
        "    pyImNew = np.empty(pyIm.shape)\n",
        "\n",
        "    num = int(np.max(pyIm.flatten())-np.min(pyIm.flatten()))+1\n",
        "    im_hist, bins = np.histogram(pyIm.flatten(), num)\n",
        "\n",
        "    cdf = im_hist.cumsum()\n",
        "    cdf = max(pyIm.flatten()) * cdf /cdf[-1]\n",
        "\n",
        "    image_equalized = np.interp(pyIm.flatten(),bins[:-1],cdf)\n",
        "    pyImNew = np.reshape(image_equalized,pyIm.shape)\n",
        "    \n",
        "    return pyImNew"
      ],
      "execution_count": 0,
      "outputs": []
    },
    {
      "cell_type": "code",
      "metadata": {
        "id": "932SbHoWzYYv",
        "colab_type": "code",
        "colab": {}
      },
      "source": [
        "from preProcess import RescaleIntensity\n",
        "def data_preprocess_intensity(image_vol_fn, m, eqlhst=False):\n",
        "    img = sitk.ReadImage(image_vol_fn)\n",
        "    image_vol = sitk.GetArrayFromImage(img).astype(float)\n",
        "    original_shape = image_vol.shape\n",
        "    if m ==\"mr\":\n",
        "        image_vol = np.moveaxis(image_vol,0,-1)\n",
        " \n",
        "    ori = img.GetOrigin()\n",
        "    space = img.GetSpacing()\n",
        "    direc = img.GetDirection()\n",
        "    print(np.min(image_vol), np.max(image_vol))\n",
        "\n",
        "    print(np.min(image_vol), np.max(image_vol))\n",
        "    image_vol = RescaleIntensity(image_vol, m, [750,-750])\n",
        "    \n",
        "    if eqlhst:\n",
        "        image_vol = HistogramEqualization(image_vol)\n",
        "        \n",
        "    image_vol = RescaleIntensity(image_vol, m, [np.max(image_vol),np.min(image_vol)])\n",
        "    print(np.min(image_vol), np.max(image_vol))\n",
        "    image_info = (ori, space, direc)\n",
        "    \n",
        "    return image_vol, original_shape, image_info"
      ],
      "execution_count": 0,
      "outputs": []
    },
    {
      "cell_type": "code",
      "metadata": {
        "id": "lgJ_1eakuwoe",
        "colab_type": "code",
        "colab": {}
      },
      "source": [
        "from skimage.transform import resize\n",
        "def croppedImage_eqlhst(img_fn, mask_fn, m, view, size, eqlhst=False):\n",
        "  img_vol, _, _ = data_preprocess_intensity(img_fn, m, eqlhst)\n",
        "  print(img_vol.shape)\n",
        "  img_vol = data_preprocess_scale(img_vol, view, 256)\n",
        "  msk = sitk.ReadImage(mask_fn)\n",
        "\n",
        "  maskVol = sitk.GetArrayFromImage(msk).astype(float)\n",
        "  if m == \"mr\":\n",
        "    maskVol = np.moveaxis(maskVol, 0, -1)\n",
        "    \n",
        "  maskVol = np.moveaxis(maskVol, view, 0)\n",
        "  IDs = np.max(np.max(maskVol,axis=-1),axis=-1)==0\n",
        "  sliced = np.moveaxis(img_vol,view,0)[~IDs,:,:]\n",
        "  sliced = np.moveaxis(resize(sliced, (size,256,256), order=1), 0, view)\n",
        "  mask_sliced = np.moveaxis(maskVol,view,0)[~IDs,:,:]\n",
        "  mask_sliced = np.moveaxis(resize(mask_sliced, (size,256,256), order=1), 0, view)\n",
        "  \n",
        "  return sliced, mask_sliced"
      ],
      "execution_count": 0,
      "outputs": []
    },
    {
      "cell_type": "code",
      "metadata": {
        "id": "ByKLkaQx022U",
        "colab_type": "code",
        "colab": {
          "base_uri": "https://localhost:8080/",
          "height": 3638
        },
        "outputId": "4f320a6c-1b1d-4bcf-91de-b43cf7cc1edd"
      },
      "source": [
        "# visualize mask \n",
        "num = 20\n",
        "outputs_mr = []\n",
        "for i in range(num):\n",
        "  _, features_ct = croppedImage_eqlhst(x_train_filenames_mr[i], y_train_filenames_mr[i], modality[0], 0, 50, eqlhst=False)\n",
        "  print(features_ct.shape)\n",
        "  outputs_mr.append(features_ct.flatten())\n",
        "outputs_mr = np.array(outputs_mr)\n",
        "print(outputs_mr.shape)\n",
        "outputs_mr_eqlhst = []\n",
        "for i in range(num):\n",
        "  _, features_mr = croppedImage_eqlhst(x_train_filenames_mr[i], y_train_filenames_mr[i], modality[0], 0, 50, eqlhst=True)\n",
        "  print(features_mr.shape)\n",
        "  outputs_mr_eqlhst.append(features_mr.flatten())\n",
        "outputs_mr_eqlhst = np.array(outputs_mr_eqlhst)\n",
        "print(outputs_mr_eqlhst.shape)\n",
        "plt.figure()\n",
        "plt.subplot(1,2,1)\n",
        "plt.imshow(features_ct[20,:,:])\n",
        "plt.subplot(1,2,2)\n",
        "plt.imshow(features_mr[20,:,:])\n",
        "plt.show()"
      ],
      "execution_count": 25,
      "outputs": [
        {
          "output_type": "stream",
          "text": [
            "(512, 512, 160)\n",
            "(0.78125, 0.78125, 1.600000023841858)\n",
            "(-206.0869598388672, -155.02609252929688, -199.21875)\n",
            "(1.0, 0.0, 0.0, 0.0, -0.0, 1.0, 0.0, 1.0, -0.0)\n",
            "(50, 256, 256)\n",
            "(512, 512, 128)\n",
            "(0.78125, 0.78125, 1.600000023841858)\n",
            "(-187.81460571289062, -94.62042999267578, -190.7644500732422)\n",
            "(1.0, 0.0, 0.0, 0.0, -0.0, 1.0, 0.0, 1.0, -0.0)\n",
            "(50, 256, 256)\n",
            "(288, 288, 160)\n",
            "(1.0, 1.0, 1.0499999523162842)\n",
            "(134.70086669921875, -172.93592834472656, -103.38882446289062)\n",
            "(-0.0, 0.0, -1.0, 1.0, -0.0, 0.0, 0.0, 1.0, -0.0)\n",
            "(50, 256, 256)\n",
            "(288, 288, 120)\n",
            "(0.9722222089767456, 0.9722222089767456, 1.0499999523162842)\n",
            "(134.70086669921875, -172.93592834472656, -103.38882446289062)\n",
            "(-0.0, 0.0, -1.0, 1.0, -0.0, 0.0, 0.0, 1.0, -0.0)\n",
            "(50, 256, 256)\n",
            "(288, 288, 130)\n",
            "(1.0, 1.0, 1.0499999523162842)\n",
            "(134.70086669921875, -172.93592834472656, -103.38882446289062)\n",
            "(-0.0, 0.0, -1.0, 1.0, -0.0, 0.0, 0.0, 1.0, -0.0)\n",
            "(50, 256, 256)\n",
            "(256, 256, 160)\n",
            "(1.2109375, 1.2109375, 0.8999999761581421)\n",
            "(134.70086669921875, -172.93592834472656, -103.38882446289062)\n",
            "(-0.0, 0.0, -1.0, 1.0, -0.0, 0.0, 0.0, 1.0, -0.0)\n",
            "(50, 256, 256)\n",
            "(288, 288, 180)\n",
            "(1.0, 1.0, 1.0499999523162842)\n",
            "(134.70086669921875, -172.93592834472656, -103.38882446289062)\n",
            "(-0.0, 0.0, -1.0, 1.0, -0.0, 0.0, 0.0, 1.0, -0.0)\n",
            "(50, 256, 256)\n",
            "(288, 288, 130)\n",
            "(1.0, 1.0, 1.0499999523162842)\n",
            "(134.70086669921875, -172.93592834472656, -103.38882446289062)\n",
            "(-0.0, 0.0, -1.0, 1.0, -0.0, 0.0, 0.0, 1.0, -0.0)\n",
            "(50, 256, 256)\n",
            "(512, 512, 120)\n",
            "(0.78125, 0.78125, 1.600000023841858)\n",
            "(-173.23670959472656, -86.89082336425781, -199.21875)\n",
            "(1.0, 0.0, 0.0, 0.0, -0.0, 1.0, 0.0, 1.0, -0.0)\n",
            "(50, 256, 256)\n",
            "(288, 288, 160)\n",
            "(0.9722222089767456, 0.9722222089767456, 1.0499999523162842)\n",
            "(134.70086669921875, -172.93592834472656, -103.38882446289062)\n",
            "(-0.0, 0.0, -1.0, 1.0, -0.0, 0.0, 0.0, 1.0, -0.0)\n",
            "(50, 256, 256)\n",
            "(288, 288, 160)\n",
            "(1.1111111640930176, 1.1111111640930176, 0.8999999761581421)\n",
            "(134.70086669921875, -172.93592834472656, -103.38882446289062)\n",
            "(-0.0, 0.0, -1.0, 1.0, -0.0, 0.0, 0.0, 1.0, -0.0)\n",
            "(50, 256, 256)\n",
            "(512, 512, 128)\n",
            "(0.78125, 0.78125, 1.600000023841858)\n",
            "(-200.0, -101.5999984741211, -199.21875)\n",
            "(1.0, 0.0, 0.0, 0.0, -0.0, 1.0, 0.0, 1.0, -0.0)\n",
            "(50, 256, 256)\n",
            "(512, 512, 112)\n",
            "(0.78125, 0.78125, 1.600000023841858)\n",
            "(-197.0531463623047, -78.02705383300781, -199.21875)\n",
            "(1.0, 0.0, 0.0, 0.0, -0.0, 1.0, 0.0, 1.0, -0.0)\n",
            "(50, 256, 256)\n",
            "(512, 512, 160)\n",
            "(0.78125, 0.78125, 1.600000023841858)\n",
            "(-206.95652770996094, -152.41738891601562, -199.21875)\n",
            "(1.0, 0.0, 0.0, 0.0, -0.0, 1.0, 0.0, 1.0, -0.0)\n",
            "(50, 256, 256)\n",
            "(340, 340, 200)\n",
            "(1.0, 1.0, 1.0)\n",
            "(140.9871826171875, -190.0662841796875, -199.73252868652344)\n",
            "(-0.0, 0.0, -1.0, 1.0, -0.0, 0.0, 0.0, 1.0, -0.0)\n",
            "(50, 256, 256)\n",
            "(288, 288, 130)\n",
            "(0.9722222089767456, 0.9722222089767456, 1.0499999523162842)\n",
            "(134.70086669921875, -172.93592834472656, -103.38882446289062)\n",
            "(-0.0, 0.0, -1.0, 1.0, -0.0, 0.0, 0.0, 1.0, -0.0)\n",
            "(50, 256, 256)\n",
            "(288, 288, 140)\n",
            "(0.9722222089767456, 0.9722222089767456, 1.0499999523162842)\n",
            "(134.70086669921875, -172.93592834472656, -103.38882446289062)\n",
            "(-0.0, 0.0, -1.0, 1.0, -0.0, 0.0, 0.0, 1.0, -0.0)\n",
            "(50, 256, 256)\n",
            "(288, 288, 150)\n",
            "(0.9722222089767456, 0.9722222089767456, 1.0499999523162842)\n",
            "(134.70086669921875, -172.93592834472656, -103.38882446289062)\n",
            "(-0.0, 0.0, -1.0, 1.0, -0.0, 0.0, 0.0, 1.0, -0.0)\n",
            "(50, 256, 256)\n",
            "(288, 288, 135)\n",
            "(0.9722222089767456, 0.9722222089767456, 1.0499999523162842)\n",
            "(134.70086669921875, -172.93592834472656, -103.38882446289062)\n",
            "(-0.0, 0.0, -1.0, 1.0, -0.0, 0.0, 0.0, 1.0, -0.0)\n",
            "(50, 256, 256)\n",
            "(288, 288, 135)\n",
            "(0.9722222089767456, 0.9722222089767456, 1.0499999523162842)\n",
            "(134.70086669921875, -172.93592834472656, -103.38882446289062)\n",
            "(-0.0, 0.0, -1.0, 1.0, -0.0, 0.0, 0.0, 1.0, -0.0)\n",
            "(50, 256, 256)\n",
            "(20, 3276800)\n",
            "(512, 512, 160)\n",
            "(0.78125, 0.78125, 1.600000023841858)\n",
            "(-206.0869598388672, -155.02609252929688, -199.21875)\n",
            "(1.0, 0.0, 0.0, 0.0, -0.0, 1.0, 0.0, 1.0, -0.0)\n",
            "(50, 256, 256)\n",
            "(512, 512, 128)\n",
            "(0.78125, 0.78125, 1.600000023841858)\n",
            "(-187.81460571289062, -94.62042999267578, -190.7644500732422)\n",
            "(1.0, 0.0, 0.0, 0.0, -0.0, 1.0, 0.0, 1.0, -0.0)\n",
            "(50, 256, 256)\n",
            "(288, 288, 160)\n",
            "(1.0, 1.0, 1.0499999523162842)\n",
            "(134.70086669921875, -172.93592834472656, -103.38882446289062)\n",
            "(-0.0, 0.0, -1.0, 1.0, -0.0, 0.0, 0.0, 1.0, -0.0)\n",
            "(50, 256, 256)\n",
            "(288, 288, 120)\n",
            "(0.9722222089767456, 0.9722222089767456, 1.0499999523162842)\n",
            "(134.70086669921875, -172.93592834472656, -103.38882446289062)\n",
            "(-0.0, 0.0, -1.0, 1.0, -0.0, 0.0, 0.0, 1.0, -0.0)\n",
            "(50, 256, 256)\n",
            "(288, 288, 130)\n",
            "(1.0, 1.0, 1.0499999523162842)\n",
            "(134.70086669921875, -172.93592834472656, -103.38882446289062)\n",
            "(-0.0, 0.0, -1.0, 1.0, -0.0, 0.0, 0.0, 1.0, -0.0)\n",
            "(50, 256, 256)\n",
            "(256, 256, 160)\n",
            "(1.2109375, 1.2109375, 0.8999999761581421)\n",
            "(134.70086669921875, -172.93592834472656, -103.38882446289062)\n",
            "(-0.0, 0.0, -1.0, 1.0, -0.0, 0.0, 0.0, 1.0, -0.0)\n",
            "(50, 256, 256)\n",
            "(288, 288, 180)\n",
            "(1.0, 1.0, 1.0499999523162842)\n",
            "(134.70086669921875, -172.93592834472656, -103.38882446289062)\n",
            "(-0.0, 0.0, -1.0, 1.0, -0.0, 0.0, 0.0, 1.0, -0.0)\n",
            "(50, 256, 256)\n",
            "(288, 288, 130)\n",
            "(1.0, 1.0, 1.0499999523162842)\n",
            "(134.70086669921875, -172.93592834472656, -103.38882446289062)\n",
            "(-0.0, 0.0, -1.0, 1.0, -0.0, 0.0, 0.0, 1.0, -0.0)\n",
            "(50, 256, 256)\n",
            "(512, 512, 120)\n",
            "(0.78125, 0.78125, 1.600000023841858)\n",
            "(-173.23670959472656, -86.89082336425781, -199.21875)\n",
            "(1.0, 0.0, 0.0, 0.0, -0.0, 1.0, 0.0, 1.0, -0.0)\n",
            "(50, 256, 256)\n",
            "(288, 288, 160)\n",
            "(0.9722222089767456, 0.9722222089767456, 1.0499999523162842)\n",
            "(134.70086669921875, -172.93592834472656, -103.38882446289062)\n",
            "(-0.0, 0.0, -1.0, 1.0, -0.0, 0.0, 0.0, 1.0, -0.0)\n",
            "(50, 256, 256)\n",
            "(288, 288, 160)\n",
            "(1.1111111640930176, 1.1111111640930176, 0.8999999761581421)\n",
            "(134.70086669921875, -172.93592834472656, -103.38882446289062)\n",
            "(-0.0, 0.0, -1.0, 1.0, -0.0, 0.0, 0.0, 1.0, -0.0)\n",
            "(50, 256, 256)\n",
            "(512, 512, 128)\n",
            "(0.78125, 0.78125, 1.600000023841858)\n",
            "(-200.0, -101.5999984741211, -199.21875)\n",
            "(1.0, 0.0, 0.0, 0.0, -0.0, 1.0, 0.0, 1.0, -0.0)\n",
            "(50, 256, 256)\n",
            "(512, 512, 112)\n",
            "(0.78125, 0.78125, 1.600000023841858)\n",
            "(-197.0531463623047, -78.02705383300781, -199.21875)\n",
            "(1.0, 0.0, 0.0, 0.0, -0.0, 1.0, 0.0, 1.0, -0.0)\n",
            "(50, 256, 256)\n",
            "(512, 512, 160)\n",
            "(0.78125, 0.78125, 1.600000023841858)\n",
            "(-206.95652770996094, -152.41738891601562, -199.21875)\n",
            "(1.0, 0.0, 0.0, 0.0, -0.0, 1.0, 0.0, 1.0, -0.0)\n",
            "(50, 256, 256)\n",
            "(340, 340, 200)\n",
            "(1.0, 1.0, 1.0)\n",
            "(140.9871826171875, -190.0662841796875, -199.73252868652344)\n",
            "(-0.0, 0.0, -1.0, 1.0, -0.0, 0.0, 0.0, 1.0, -0.0)\n",
            "(50, 256, 256)\n",
            "(288, 288, 130)\n",
            "(0.9722222089767456, 0.9722222089767456, 1.0499999523162842)\n",
            "(134.70086669921875, -172.93592834472656, -103.38882446289062)\n",
            "(-0.0, 0.0, -1.0, 1.0, -0.0, 0.0, 0.0, 1.0, -0.0)\n",
            "(50, 256, 256)\n",
            "(288, 288, 140)\n",
            "(0.9722222089767456, 0.9722222089767456, 1.0499999523162842)\n",
            "(134.70086669921875, -172.93592834472656, -103.38882446289062)\n",
            "(-0.0, 0.0, -1.0, 1.0, -0.0, 0.0, 0.0, 1.0, -0.0)\n",
            "(50, 256, 256)\n",
            "(288, 288, 150)\n",
            "(0.9722222089767456, 0.9722222089767456, 1.0499999523162842)\n",
            "(134.70086669921875, -172.93592834472656, -103.38882446289062)\n",
            "(-0.0, 0.0, -1.0, 1.0, -0.0, 0.0, 0.0, 1.0, -0.0)\n",
            "(50, 256, 256)\n",
            "(288, 288, 135)\n",
            "(0.9722222089767456, 0.9722222089767456, 1.0499999523162842)\n",
            "(134.70086669921875, -172.93592834472656, -103.38882446289062)\n",
            "(-0.0, 0.0, -1.0, 1.0, -0.0, 0.0, 0.0, 1.0, -0.0)\n",
            "(50, 256, 256)\n",
            "(288, 288, 135)\n",
            "(0.9722222089767456, 0.9722222089767456, 1.0499999523162842)\n",
            "(134.70086669921875, -172.93592834472656, -103.38882446289062)\n",
            "(-0.0, 0.0, -1.0, 1.0, -0.0, 0.0, 0.0, 1.0, -0.0)\n",
            "(50, 256, 256)\n",
            "(20, 3276800)\n"
          ],
          "name": "stdout"
        },
        {
          "output_type": "display_data",
          "data": {
            "image/png": "[encoded data removed]",
            "text/plain": [
              "<Figure size 432x288 with 2 Axes>"
            ]
          },
          "metadata": {
            "tags": []
          }
        }
      ]
    },
    {
      "cell_type": "code",
      "metadata": {
        "id": "8m_6VdB15Kx5",
        "colab_type": "code",
        "colab": {
          "base_uri": "https://localhost:8080/",
          "height": 285
        },
        "outputId": "9d687d9b-bf4f-46ae-ba14-5049ec2ff0a8"
      },
      "source": [
        "from sklearn import manifold\n",
        "#----------------------------------------------------------------------\n",
        "# t-SNE embedding of the digits dataset\n",
        "print(\"Computing t-SNE embedding\")\n",
        "tsne = manifold.TSNE(n_components=2, init='pca', random_state=0)\n",
        "X_tsne = tsne.fit_transform(np.concatenate((outputs_mr, outputs_mr_eqlhst)))\n",
        "\n",
        "plot_embedding(X_tsne, np.array([np.zeros(num), np.ones(num)]).flatten(),\n",
        "               \"t-SNE embedding of the feature maps\")\n",
        "\n",
        "plt.show()\n",
        "del outputs_mr_eqlhst\n",
        "del outputs_mr"
      ],
      "execution_count": 29,
      "outputs": [
        {
          "output_type": "stream",
          "text": [
            "Computing t-SNE embedding\n"
          ],
          "name": "stdout"
        },
        {
          "output_type": "display_data",
          "data": {
            "image/png": "[encoded data removed]",
            "text/plain": [
              "<Figure size 432x288 with 1 Axes>"
            ]
          },
          "metadata": {
            "tags": []
          }
        }
      ]
    },
    {
      "cell_type": "code",
      "metadata": {
        "id": "ES0LWXYh0vQQ",
        "colab_type": "code",
        "colab": {
          "base_uri": "https://localhost:8080/",
          "height": 1615
        },
        "outputId": "e4914eec-cc7a-4343-9738-7bcedf7629e5"
      },
      "source": [
        "#ids = getLayerIndexByName(unet, [\"max_pooling2d\", \"max_pooling2d_1\", \"max_pooling2d_2\",\"max_pooling2d_3\", \"max_pooling2d_4\", \"conv2d_22\"])\n",
        "ids = getLayerIndexByName(unet, [\"conv2d_22\"])\n",
        "print(ids)\n",
        "get_all_layer_outputs = K.function([unet.layers[0].input],\n",
        "                                  [unet.layers[i].output for i in ids])"
      ],
      "execution_count": 12,
      "outputs": [
        {
          "output_type": "stream",
          "text": [
            "input_1\n",
            "conv2d\n",
            "batch_normalization_v1\n",
            "activation\n",
            "conv2d_1\n",
            "batch_normalization_v1_1\n",
            "activation_1\n",
            "max_pooling2d\n",
            "conv2d_2\n",
            "batch_normalization_v1_2\n",
            "activation_2\n",
            "conv2d_3\n",
            "batch_normalization_v1_3\n",
            "activation_3\n",
            "max_pooling2d_1\n",
            "conv2d_4\n",
            "batch_normalization_v1_4\n",
            "activation_4\n",
            "conv2d_5\n",
            "batch_normalization_v1_5\n",
            "activation_5\n",
            "max_pooling2d_2\n",
            "conv2d_6\n",
            "batch_normalization_v1_6\n",
            "activation_6\n",
            "conv2d_7\n",
            "batch_normalization_v1_7\n",
            "activation_7\n",
            "max_pooling2d_3\n",
            "conv2d_8\n",
            "batch_normalization_v1_8\n",
            "activation_8\n",
            "conv2d_9\n",
            "batch_normalization_v1_9\n",
            "activation_9\n",
            "max_pooling2d_4\n",
            "conv2d_10\n",
            "batch_normalization_v1_10\n",
            "activation_10\n",
            "conv2d_11\n",
            "batch_normalization_v1_11\n",
            "activation_11\n",
            "conv2d_transpose\n",
            "concatenate\n",
            "batch_normalization_v1_12\n",
            "activation_12\n",
            "conv2d_12\n",
            "batch_normalization_v1_13\n",
            "activation_13\n",
            "conv2d_13\n",
            "batch_normalization_v1_14\n",
            "activation_14\n",
            "conv2d_transpose_1\n",
            "concatenate_1\n",
            "batch_normalization_v1_15\n",
            "activation_15\n",
            "conv2d_14\n",
            "batch_normalization_v1_16\n",
            "activation_16\n",
            "conv2d_15\n",
            "batch_normalization_v1_17\n",
            "activation_17\n",
            "conv2d_transpose_2\n",
            "concatenate_2\n",
            "batch_normalization_v1_18\n",
            "activation_18\n",
            "conv2d_16\n",
            "batch_normalization_v1_19\n",
            "activation_19\n",
            "conv2d_17\n",
            "batch_normalization_v1_20\n",
            "activation_20\n",
            "conv2d_transpose_3\n",
            "concatenate_3\n",
            "batch_normalization_v1_21\n",
            "activation_21\n",
            "conv2d_18\n",
            "batch_normalization_v1_22\n",
            "activation_22\n",
            "conv2d_19\n",
            "batch_normalization_v1_23\n",
            "activation_23\n",
            "conv2d_transpose_4\n",
            "concatenate_4\n",
            "batch_normalization_v1_24\n",
            "activation_24\n",
            "conv2d_20\n",
            "batch_normalization_v1_25\n",
            "activation_25\n",
            "conv2d_21\n",
            "batch_normalization_v1_26\n",
            "activation_26\n",
            "conv2d_22\n",
            "[92]\n"
          ],
          "name": "stdout"
        }
      ]
    },
    {
      "cell_type": "code",
      "metadata": {
        "id": "nNnyiYbm7ogo",
        "colab_type": "code",
        "colab": {
          "base_uri": "https://localhost:8080/",
          "height": 255
        },
        "outputId": "3fdafe96-441b-476e-9304-608d683933ab"
      },
      "source": [
        "num = 1\n",
        "outputs_mr = []\n",
        "for i in range(num):\n",
        "  features, mask = croppedImage_eqlhst(x_train_filenames_mr[i], y_train_filenames_mr[i], modality[0], 0, 40, eqlhst=False)\n",
        "  print(features.shape)\n",
        "  layer_output = get_all_layer_outputs([np.expand_dims(features, axis=-1)])\n",
        "  print(layer_output[0].shape)\n",
        "  outputs_mr.append(layer_output[0].flatten())\n",
        "outputs_mr = np.array(outputs_mr)\n",
        "print(outputs_mr.shape)\n",
        "outputs_mr_eqlhst = []\n",
        "for i in range(num):\n",
        "  features_eqlhst, mask_eqlhst = croppedImage_eqlhst(x_train_filenames_mr[i], y_train_filenames_mr[i], modality[0], 0, 40, eqlhst=True)\n",
        "  print(features.shape)\n",
        "  layer_output = get_all_layer_outputs([np.expand_dims(features_eqlhst, axis=-1)])\n",
        "  print(layer_output[0].shape)\n",
        "  outputs_mr_eqlhst.append(layer_output[0].flatten())\n",
        "outputs_mr_eqlhst = np.array(outputs_mr_eqlhst)\n",
        "print(outputs_mr_eqlhst.shape)"
      ],
      "execution_count": 47,
      "outputs": [
        {
          "output_type": "stream",
          "text": [
            "0.0 4095.0\n",
            "0.0 4095.0\n",
            "-1.0 1.0\n",
            "(512, 512, 160)\n",
            "(40, 256, 256)\n",
            "(40, 256, 256, 8)\n",
            "(1, 20971520)\n",
            "0.0 4095.0\n",
            "0.0 4095.0\n",
            "0.8878987073898316 1.0\n",
            "(512, 512, 160)\n",
            "(40, 256, 256)\n",
            "(40, 256, 256, 8)\n",
            "(1, 20971520)\n"
          ],
          "name": "stdout"
        }
      ]
    },
    {
      "cell_type": "code",
      "metadata": {
        "id": "iDulPYBuEk-c",
        "colab_type": "code",
        "colab": {
          "base_uri": "https://localhost:8080/",
          "height": 303
        },
        "outputId": "5124c622-c5ad-45ea-af5d-449d21b06300"
      },
      "source": [
        "pred_mr = np.argmax(outputs_mr.reshape(num, *layer_output[0].shape), axis=-1)\n",
        "print(pred_mr.shape)\n",
        "pred_mr_eqlhst = np.argmax(outputs_mr_eqlhst.reshape(num, *layer_output[0].shape), axis=-1)\n",
        "print(pred_mr_eqlhst.shape)\n",
        "slc = 20\n",
        "plt.figure()\n",
        "plt.subplot(2,3,1)\n",
        "plt.imshow(pred_mr[0,slc,:,:], vmin=0, vmax=8)\n",
        "plt.subplot(2,3,2)\n",
        "plt.imshow(mask[slc,:,:])\n",
        "plt.subplot(2,3,3)\n",
        "plt.imshow(features[slc,:,:])\n",
        "plt.subplot(2,3,4)\n",
        "plt.imshow(pred_mr_eqlhst[0,slc,:,:], vmin=0, vmax=8)\n",
        "plt.subplot(2,3,5)\n",
        "plt.imshow(mask_eqlhst[slc,:,:])\n",
        "plt.subplot(2,3,6)\n",
        "plt.imshow(features_eqlhst[slc,:,:])\n",
        "plt.show()"
      ],
      "execution_count": 48,
      "outputs": [
        {
          "output_type": "stream",
          "text": [
            "(1, 40, 256, 256)\n",
            "(1, 40, 256, 256)\n"
          ],
          "name": "stdout"
        },
        {
          "output_type": "display_data",
          "data": {
            "image/png": "[encoded data removed]",
            "text/plain": [
              "<Figure size 432x288 with 6 Axes>"
            ]
          },
          "metadata": {
            "tags": []
          }
        }
      ]
    },
    {
      "cell_type": "code",
      "metadata": {
        "id": "cp-u8mfh8rYV",
        "colab_type": "code",
        "colab": {
          "base_uri": "https://localhost:8080/",
          "height": 285
        },
        "outputId": "c61a25b9-b8f0-4b74-f955-688d1ab16086"
      },
      "source": [
        "from sklearn import manifold\n",
        "#----------------------------------------------------------------------\n",
        "# t-SNE embedding of the digits dataset\n",
        "print(\"Computing t-SNE embedding\")\n",
        "tsne = manifold.TSNE(n_components=2, init='pca', random_state=0)\n",
        "X_tsne = tsne.fit_transform(np.concatenate((outputs_mr, outputs_mr_eqlhst)))\n",
        "\n",
        "plot_embedding(X_tsne, np.array([np.zeros(num), np.ones(num)]).flatten(),\n",
        "               \"t-SNE embedding of the feature maps\")\n",
        "\n",
        "plt.show()\n",
        "del outputs_mr_eqlhst\n",
        "del outputs_mr"
      ],
      "execution_count": 16,
      "outputs": [
        {
          "output_type": "stream",
          "text": [
            "Computing t-SNE embedding\n"
          ],
          "name": "stdout"
        },
        {
          "output_type": "display_data",
          "data": {
            "image/png": "[encoded data removed]",
            "text/plain": [
              "<Figure size 432x288 with 1 Axes>"
            ]
          },
          "metadata": {
            "tags": []
          }
        }
      ]
    },
    {
      "cell_type": "markdown",
      "metadata": {
        "id": "GvTkE4xPtkGa",
        "colab_type": "text"
      },
      "source": [
        "# Visualization for CT and MR"
      ]
    },
    {
      "cell_type": "code",
      "metadata": {
        "id": "CU2M3XmN5ToL",
        "colab_type": "code",
        "outputId": "d0050a52-fbec-4030-9aeb-dcb18a3b85d3",
        "colab": {
          "base_uri": "https://localhost:8080/",
          "height": 85
        }
      },
      "source": [
        "modality = [\"ct\", \"mr\"]\n",
        "data_folder = '/content/gdrive/My Drive/ImageData/MMWHS'\n",
        "x_train_filenames_ct, y_train_filenames_ct = getTrainNLabelNames(data_folder, modality[0])\n",
        "print(\"Number of training volumes %d\" % len(x_train_filenames_ct))\n",
        "print(\"Number of mask volumes %d\" % len(y_train_filenames_ct))\n",
        "x_train_filenames_mr, y_train_filenames_mr = getTrainNLabelNames(data_folder, modality[1])\n",
        "print(\"Number of training volumes %d\" % len(x_train_filenames_mr))\n",
        "print(\"Number of mask volumes %d\" % len(y_train_filenames_mr))"
      ],
      "execution_count": 0,
      "outputs": [
        {
          "output_type": "stream",
          "text": [
            "Number of training volumes 20\n",
            "Number of mask volumes 20\n",
            "Number of training volumes 20\n",
            "Number of mask volumes 20\n"
          ],
          "name": "stdout"
        }
      ]
    },
    {
      "cell_type": "code",
      "metadata": {
        "id": "kK1CQWtp8ARS",
        "colab_type": "code",
        "outputId": "659528ff-c6fa-43a9-c96e-1e2887d6f884",
        "colab": {
          "base_uri": "https://localhost:8080/",
          "height": 88
        }
      },
      "source": [
        "from loss import bce_dice_loss, dice_loss\n",
        "save_model_path_both = '/content/gdrive/My Drive/DeepLearning/2DUNet/Logs_2/MMWHS_small3/weights_multi-all-axial_small2.hdf5'\n",
        "save_model_path_ct = '/content/gdrive/My Drive/DeepLearning/2DUNet/Logs_2/MMWHS_ct/weights_multi-all-axial_small2.hdf5'\n",
        "save_model_path_mr = '/content/gdrive/My Drive/DeepLearning/2DUNet/Logs_2/MMWHS_mr/weights_multi-all-axial_small2.hdf5'\n",
        "from model import UNet2D\n",
        "img_shape = (256, 256, 1)\n",
        "inputs, outputs = UNet2D(img_shape, 8)\n",
        "unet = models.Model(inputs=[inputs], outputs=[outputs])\n",
        "unet.load_weights(save_model_path_both)"
      ],
      "execution_count": 0,
      "outputs": [
        {
          "output_type": "stream",
          "text": [
            "WARNING:tensorflow:From /usr/local/lib/python3.6/dist-packages/tensorflow/python/ops/resource_variable_ops.py:435: colocate_with (from tensorflow.python.framework.ops) is deprecated and will be removed in a future version.\n",
            "Instructions for updating:\n",
            "Colocations handled automatically by placer.\n"
          ],
          "name": "stdout"
        }
      ]
    },
    {
      "cell_type": "code",
      "metadata": {
        "id": "lpRgDf-CHatt",
        "colab_type": "code",
        "outputId": "ea9b2ebf-7faa-4c55-a7fe-7670289ef61c",
        "colab": {
          "base_uri": "https://localhost:8080/",
          "height": 1615
        }
      },
      "source": [
        "#ids = getLayerIndexByName(unet, [\"max_pooling2d\", \"max_pooling2d_1\", \"max_pooling2d_2\",\"max_pooling2d_3\", \"max_pooling2d_4\"])\n",
        "ids = getLayerIndexByName(unet, [\"conv2d_22\"])\n",
        "print(ids)\n",
        "get_all_layer_outputs = K.function([unet.layers[0].input],\n",
        "                                  [unet.layers[i].output for i in ids])"
      ],
      "execution_count": 0,
      "outputs": [
        {
          "output_type": "stream",
          "text": [
            "input_1\n",
            "conv2d\n",
            "batch_normalization_v1\n",
            "activation\n",
            "conv2d_1\n",
            "batch_normalization_v1_1\n",
            "activation_1\n",
            "max_pooling2d\n",
            "conv2d_2\n",
            "batch_normalization_v1_2\n",
            "activation_2\n",
            "conv2d_3\n",
            "batch_normalization_v1_3\n",
            "activation_3\n",
            "max_pooling2d_1\n",
            "conv2d_4\n",
            "batch_normalization_v1_4\n",
            "activation_4\n",
            "conv2d_5\n",
            "batch_normalization_v1_5\n",
            "activation_5\n",
            "max_pooling2d_2\n",
            "conv2d_6\n",
            "batch_normalization_v1_6\n",
            "activation_6\n",
            "conv2d_7\n",
            "batch_normalization_v1_7\n",
            "activation_7\n",
            "max_pooling2d_3\n",
            "conv2d_8\n",
            "batch_normalization_v1_8\n",
            "activation_8\n",
            "conv2d_9\n",
            "batch_normalization_v1_9\n",
            "activation_9\n",
            "max_pooling2d_4\n",
            "conv2d_10\n",
            "batch_normalization_v1_10\n",
            "activation_10\n",
            "conv2d_11\n",
            "batch_normalization_v1_11\n",
            "activation_11\n",
            "conv2d_transpose\n",
            "concatenate\n",
            "batch_normalization_v1_12\n",
            "activation_12\n",
            "conv2d_12\n",
            "batch_normalization_v1_13\n",
            "activation_13\n",
            "conv2d_13\n",
            "batch_normalization_v1_14\n",
            "activation_14\n",
            "conv2d_transpose_1\n",
            "concatenate_1\n",
            "batch_normalization_v1_15\n",
            "activation_15\n",
            "conv2d_14\n",
            "batch_normalization_v1_16\n",
            "activation_16\n",
            "conv2d_15\n",
            "batch_normalization_v1_17\n",
            "activation_17\n",
            "conv2d_transpose_2\n",
            "concatenate_2\n",
            "batch_normalization_v1_18\n",
            "activation_18\n",
            "conv2d_16\n",
            "batch_normalization_v1_19\n",
            "activation_19\n",
            "conv2d_17\n",
            "batch_normalization_v1_20\n",
            "activation_20\n",
            "conv2d_transpose_3\n",
            "concatenate_3\n",
            "batch_normalization_v1_21\n",
            "activation_21\n",
            "conv2d_18\n",
            "batch_normalization_v1_22\n",
            "activation_22\n",
            "conv2d_19\n",
            "batch_normalization_v1_23\n",
            "activation_23\n",
            "conv2d_transpose_4\n",
            "concatenate_4\n",
            "batch_normalization_v1_24\n",
            "activation_24\n",
            "conv2d_20\n",
            "batch_normalization_v1_25\n",
            "activation_25\n",
            "conv2d_21\n",
            "batch_normalization_v1_26\n",
            "activation_26\n",
            "conv2d_22\n",
            "[92]\n"
          ],
          "name": "stdout"
        }
      ]
    },
    {
      "cell_type": "code",
      "metadata": {
        "id": "lOJX4hp5k_VX",
        "colab_type": "code",
        "outputId": "85e89a8c-61c6-47b4-eb4d-d83f52c1e5bb",
        "colab": {
          "base_uri": "https://localhost:8080/",
          "height": 989
        }
      },
      "source": [
        "num = 10\n",
        "outputs_ct = []\n",
        "for i in range(num):\n",
        "  features = croppedImage(x_train_filenames_ct[i], y_train_filenames_ct[i], modality[0], 0, 40)\n",
        "  print(features.shape)\n",
        "  layer_output = get_all_layer_outputs([np.expand_dims(features, axis=-1)])\n",
        "  print(layer_output[0].shape)\n",
        "  outputs_ct.append(layer_output[0].flatten())\n",
        "outputs_ct = np.array(outputs_ct)\n",
        "print(outputs_ct.shape)\n",
        "outputs_mr = []\n",
        "for i in range(num):\n",
        "  print(x_train_filenames_mr[i], y_train_filenames_mr[i])\n",
        "  features = croppedImage(x_train_filenames_mr[i], y_train_filenames_mr[i], modality[1], 0, 40)\n",
        "  print(features.shape)\n",
        "  layer_output = get_all_layer_outputs([np.expand_dims(features, axis=-1)])\n",
        "  print(layer_output[0].shape)\n",
        "  outputs_mr.append(layer_output[0].flatten())\n",
        "outputs_mr = np.array(outputs_mr)\n",
        "print(outputs_mr.shape)"
      ],
      "execution_count": 0,
      "outputs": [
        {
          "output_type": "stream",
          "text": [
            "/usr/local/lib/python3.6/dist-packages/skimage/transform/_warps.py:105: UserWarning: The default mode, 'constant', will be changed to 'reflect' in skimage 0.15.\n",
            "  warn(\"The default mode, 'constant', will be changed to 'reflect' in \"\n",
            "/usr/local/lib/python3.6/dist-packages/skimage/transform/_warps.py:110: UserWarning: Anti-aliasing will be enabled by default in skimage 0.15 to avoid aliasing artifacts when down-sampling images.\n",
            "  warn(\"Anti-aliasing will be enabled by default in skimage 0.15 to \"\n"
          ],
          "name": "stderr"
        },
        {
          "output_type": "stream",
          "text": [
            "(40, 256, 256)\n",
            "(40, 256, 256, 8)\n",
            "(40, 256, 256)\n",
            "(40, 256, 256, 8)\n",
            "(40, 256, 256)\n",
            "(40, 256, 256, 8)\n",
            "(40, 256, 256)\n",
            "(40, 256, 256, 8)\n",
            "(40, 256, 256)\n",
            "(40, 256, 256, 8)\n",
            "(40, 256, 256)\n",
            "(40, 256, 256, 8)\n",
            "(40, 256, 256)\n",
            "(40, 256, 256, 8)\n",
            "(40, 256, 256)\n",
            "(40, 256, 256, 8)\n",
            "(40, 256, 256)\n",
            "(40, 256, 256, 8)\n",
            "(40, 256, 256)\n",
            "(40, 256, 256, 8)\n",
            "(10, 20971520)\n",
            "/content/gdrive/My Drive/ImageData/MMWHS/mr_train/mr_train_1001_image.nii.gz /content/gdrive/My Drive/ImageData/MMWHS/mr_train_masks/mr_train_1001_label.nii.gz\n",
            "(40, 256, 256)\n",
            "(40, 256, 256, 8)\n",
            "/content/gdrive/My Drive/ImageData/MMWHS/mr_train/mr_train_1002_image.nii.gz /content/gdrive/My Drive/ImageData/MMWHS/mr_train_masks/mr_train_1002_label.nii.gz\n",
            "(40, 256, 256)\n",
            "(40, 256, 256, 8)\n",
            "/content/gdrive/My Drive/ImageData/MMWHS/mr_train/mr_train_1003_image.nii.gz /content/gdrive/My Drive/ImageData/MMWHS/mr_train_masks/mr_train_1003_label.nii.gz\n",
            "(40, 256, 256)\n",
            "(40, 256, 256, 8)\n",
            "/content/gdrive/My Drive/ImageData/MMWHS/mr_train/mr_train_1004_image.nii.gz /content/gdrive/My Drive/ImageData/MMWHS/mr_train_masks/mr_train_1004_label.nii.gz\n",
            "(40, 256, 256)\n",
            "(40, 256, 256, 8)\n",
            "/content/gdrive/My Drive/ImageData/MMWHS/mr_train/mr_train_1005_image.nii.gz /content/gdrive/My Drive/ImageData/MMWHS/mr_train_masks/mr_train_1005_label.nii.gz\n",
            "(40, 256, 256)\n",
            "(40, 256, 256, 8)\n",
            "/content/gdrive/My Drive/ImageData/MMWHS/mr_train/mr_train_1006_image.nii.gz /content/gdrive/My Drive/ImageData/MMWHS/mr_train_masks/mr_train_1006_label.nii.gz\n",
            "(40, 256, 256)\n",
            "(40, 256, 256, 8)\n",
            "/content/gdrive/My Drive/ImageData/MMWHS/mr_train/mr_train_1007_image.nii.gz /content/gdrive/My Drive/ImageData/MMWHS/mr_train_masks/mr_train_1007_label.nii.gz\n",
            "(40, 256, 256)\n",
            "(40, 256, 256, 8)\n",
            "/content/gdrive/My Drive/ImageData/MMWHS/mr_train/mr_train_1008_image.nii.gz /content/gdrive/My Drive/ImageData/MMWHS/mr_train_masks/mr_train_1008_label.nii.gz\n",
            "(40, 256, 256)\n",
            "(40, 256, 256, 8)\n",
            "/content/gdrive/My Drive/ImageData/MMWHS/mr_train/mr_train_1009_image.nii.gz /content/gdrive/My Drive/ImageData/MMWHS/mr_train_masks/mr_train_1009_label.nii.gz\n",
            "(40, 256, 256)\n",
            "(40, 256, 256, 8)\n",
            "/content/gdrive/My Drive/ImageData/MMWHS/mr_train/mr_train_1010_image.nii.gz /content/gdrive/My Drive/ImageData/MMWHS/mr_train_masks/mr_train_1010_label.nii.gz\n",
            "(40, 256, 256)\n",
            "(40, 256, 256, 8)\n",
            "(10, 20971520)\n"
          ],
          "name": "stdout"
        }
      ]
    },
    {
      "cell_type": "code",
      "metadata": {
        "id": "p6c6A_UI39jX",
        "colab_type": "code",
        "outputId": "62faf0fd-3b99-4983-e60b-517220f71a62",
        "colab": {
          "base_uri": "https://localhost:8080/",
          "height": 221
        }
      },
      "source": [
        "# mask \n",
        "num = 1\n",
        "outputs_ct = []\n",
        "for i in range(num):\n",
        "  _, features_ct = croppedImage(x_train_filenames_ct[i], y_train_filenames_ct[i], modality[0], 0, 50)\n",
        "  print(features_ct.shape)\n",
        "  outputs_ct.append(features_ct.flatten())\n",
        "outputs_ct = np.array(outputs_ct)\n",
        "print(outputs_ct.shape)\n",
        "outputs_mr = []\n",
        "for i in range(num):\n",
        "  _, features_mr = croppedImage(x_train_filenames_mr[i], y_train_filenames_mr[i], modality[1], 0, 50)\n",
        "  print(features_mr.shape)\n",
        "  outputs_mr.append(features_mr.flatten())\n",
        "outputs_mr = np.array(outputs_mr)\n",
        "print(outputs_mr.shape)"
      ],
      "execution_count": 0,
      "outputs": [
        {
          "output_type": "stream",
          "text": [
            "(130, 182, 231)\n",
            "(0.35546875, 0.35546875, 0.44999998807907104)\n",
            "(-45.5, 228.58453369140625, -271.8800048828125)\n",
            "(1.0, 0.0, 0.0, 0.0, -1.0, 0.0, 0.0, 0.0, 1.0)\n",
            "(50, 256, 256)\n",
            "(1, 3276800)\n",
            "(400, 820, 125)\n",
            "(0.78125, 0.78125, 1.600000023841858)\n",
            "(-206.0869598388672, -155.02609252929688, -199.21875)\n",
            "(1.0, 0.0, 0.0, 0.0, -0.0, 1.0, 0.0, 1.0, -0.0)\n",
            "(50, 256, 256)\n",
            "(1, 3276800)\n"
          ],
          "name": "stdout"
        }
      ]
    },
    {
      "cell_type": "code",
      "metadata": {
        "id": "TI6VUpF_r-tS",
        "colab_type": "code",
        "colab": {}
      },
      "source": [
        "# resample images to have resolution 0.5*0.5*0.5\n",
        "def resample(sitkIm_fn, resolution = (0.5, 0.5, 0.5), dim=3):\n",
        "  image = sitk.ReadImage(sitkIm_fn)\n",
        "  resample = sitk.ResampleImageFilter()\n",
        "  resample.SetInterpolator(sitk.sitkLinear)\n",
        "  resample.SetOutputDirection(image.GetDirection())\n",
        "  resample.SetOutputOrigin(image.GetOrigin())\n",
        "  resample.SetOutputSpacing(resolution)\n",
        "\n",
        "  orig_size = np.array(image.GetSize(), dtype=np.int)\n",
        "  orig_spacing = np.array(image.GetSpacing())\n",
        "  new_size = orig_size*(orig_spacing/np.array(resolution))\n",
        "  new_size = np.ceil(new_size).astype(np.int) #  Image dimensions are in integers\n",
        "  new_size = [int(s) for s in new_size]\n",
        "  resample.SetSize(new_size)\n",
        "  newimage = resample.Execute(image)\n",
        "  \n",
        "  return newimage"
      ],
      "execution_count": 0,
      "outputs": []
    },
    {
      "cell_type": "code",
      "metadata": {
        "id": "bS9f9xh8t__t",
        "colab_type": "code",
        "outputId": "44e07a1b-0fdb-4705-d61d-a93f420b3c45",
        "colab": {
          "base_uri": "https://localhost:8080/",
          "height": 453
        }
      },
      "source": [
        "# mask \n",
        "num = 2\n",
        "outputs_ct = []\n",
        "for i in range(num):\n",
        "  im = resample(x_train_filenames_ct[i])\n",
        "  im_mask = resample(y_train_filenames_ct[i])\n",
        "  print(im.GetDirection(), im_mask.GetDirection())\n",
        "  im = sitk.GetArrayFromImage(im)\n",
        "  im_mask = sitk.GetArrayFromImage(im_mask)\n",
        "  print(im.shape, im_mask.shape)\n",
        "  plt.figure()\n",
        "  plt.subplot(1,3,1)\n",
        "  print(np.max(im), np.min(im))\n",
        "  print(np.max(im_mask), np.min(im_mask))\n",
        "  plt.imshow(im[250,:,:])\n",
        "  plt.subplot(1,3,2)\n",
        "  plt.imshow(im_mask[250,:,:])\n",
        "  plt.subplot(1,3,3)\n",
        "  histEq_im = HistogramEqualization(im)\n",
        "  print(np.max(histEq_im), np.min(histEq_im))\n",
        "  plt.imshow(histEq_im[250,:,:])\n",
        "  plt.show()"
      ],
      "execution_count": 0,
      "outputs": [
        {
          "output_type": "stream",
          "text": [
            "(1.0, 0.0, 0.0, 0.0, -1.0, 0.0, 0.0, 0.0, 1.0) (1.0, 0.0, 0.0, 0.0, -1.0, 0.0, 0.0, 0.0, 1.0)\n",
            "(327, 364, 364) (327, 364, 364)\n",
            "3044.8586 -1024.0\n",
            "850 0\n",
            "3044.858642578125 628.9689665425954\n"
          ],
          "name": "stdout"
        },
        {
          "output_type": "display_data",
          "data": {
            "image/png": "[encoded data removed]",
            "text/plain": [
              "<Figure size 432x288 with 3 Axes>"
            ]
          },
          "metadata": {
            "tags": []
          }
        },
        {
          "output_type": "stream",
          "text": [
            "(1.0, 0.0, 0.0, 0.0, -1.0, 0.0, 0.0, 0.0, 1.0) (1.0, 0.0, 0.0, 0.0, -1.0, 0.0, 0.0, 0.0, 1.0)\n",
            "(299, 500, 500) (299, 500, 500)\n",
            "1347.711 -3024.0\n",
            "850 0\n",
            "1347.7110595703125 264.1941338380997\n"
          ],
          "name": "stdout"
        },
        {
          "output_type": "display_data",
          "data": {
            "image/png": "[encoded data removed]",
            "text/plain": [
              "<Figure size 432x288 with 3 Axes>"
            ]
          },
          "metadata": {
            "tags": []
          }
        }
      ]
    },
    {
      "cell_type": "code",
      "metadata": {
        "id": "2um7-3Dn7VTN",
        "colab_type": "code",
        "outputId": "02dedb6d-8b5d-4b04-ecc9-bb582698c8f9",
        "colab": {
          "base_uri": "https://localhost:8080/",
          "height": 238
        }
      },
      "source": [
        "plt.figure()\n",
        "plt.subplot(1,2,1)\n",
        "print(np.max(features_ct), np.min(features_ct))\n",
        "print(np.max(features_mr), np.min(features_mr))\n",
        "plt.imshow(features_ct[10,:,:], vmax=1000,vmin=0)\n",
        "plt.subplot(1,2,2)\n",
        "plt.imshow(features_mr[10,:,:], vmax=1000,vmin=0)\n",
        "plt.show()"
      ],
      "execution_count": 0,
      "outputs": [
        {
          "output_type": "stream",
          "text": [
            "850.0000000000008 0.0\n",
            "850.0 0.0\n"
          ],
          "name": "stdout"
        },
        {
          "output_type": "display_data",
          "data": {
            "image/png": "[encoded data removed]",
            "text/plain": [
              "<Figure size 432x288 with 2 Axes>"
            ]
          },
          "metadata": {
            "tags": []
          }
        }
      ]
    },
    {
      "cell_type": "code",
      "metadata": {
        "id": "uwgzswxRylTG",
        "colab_type": "code",
        "outputId": "767d660c-25f9-4385-f9bd-7b9069cc1c73",
        "colab": {
          "base_uri": "https://localhost:8080/",
          "height": 285
        }
      },
      "source": [
        "from sklearn import manifold\n",
        "#----------------------------------------------------------------------\n",
        "# t-SNE embedding of the digits dataset\n",
        "print(\"Computing t-SNE embedding\")\n",
        "tsne = manifold.TSNE(n_components=2, init='pca', random_state=0)\n",
        "X_tsne = tsne.fit_transform(np.concatenate((outputs_ct, outputs_mr)))\n",
        "\n",
        "plot_embedding(X_tsne, np.array([np.zeros(num), np.ones(num)]).flatten(),\n",
        "               \"t-SNE embedding of the feature maps\")\n",
        "\n",
        "plt.show()"
      ],
      "execution_count": 0,
      "outputs": [
        {
          "output_type": "stream",
          "text": [
            "Computing t-SNE embedding\n"
          ],
          "name": "stdout"
        },
        {
          "output_type": "display_data",
          "data": {
            "image/png": "[encoded data removed]",
            "text/plain": [
              "<Figure size 432x288 with 1 Axes>"
            ]
          },
          "metadata": {
            "tags": []
          }
        }
      ]
    }
  ]
}